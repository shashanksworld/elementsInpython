{
 "metadata": {
  "name": "",
  "signature": "sha256:1e20436380787239565752d30454057795bfc84afd1ad42338cb14d3dde8305c"
 },
 "nbformat": 3,
 "nbformat_minor": 0,
 "worksheets": [
  {
   "cells": [
    {
     "cell_type": "code",
     "collapsed": false,
     "input": [
      "class TreeNode(object):\n",
      "    def __init__(self, x):\n",
      "        self.val = x\n",
      "        self.left = None\n",
      "        self.right = None\n",
      "\n",
      "class Solution(object):\n",
      "    def isSameTree(self, p, q):\n",
      "        \"\"\"\n",
      "        :type p: TreeNode\n",
      "        :type q: TreeNode\n",
      "        :rtype: bool\n",
      "        \"\"\"\n",
      "        while p.right !=None:\n",
      "            if p.right.val==q.right.val:\n",
      "                p=p.right;\n",
      "                q=q.right;\n",
      "        \n",
      "edges=canFinish(2,b)\n",
      "\n"
     ],
     "language": "python",
     "metadata": {},
     "outputs": [],
     "prompt_number": 5
    },
    {
     "cell_type": "code",
     "collapsed": false,
     "input": [
      "def cyclic(i,v,s):\n",
      "    if v[i]==False:\n",
      "        v[i]=True;\n",
      "        s[i]=True;\n",
      "    for j in edges[i]:\n",
      "        if j in v.keys():\n",
      "            if (not v[j]) and cyclic(j,v,s):\n",
      "                return True;\n",
      "            elif s[j]:\n",
      "                return True;\n",
      "        \n",
      "    s[i]=False;\n",
      "    return False;\n",
      "    \n",
      "def sort(edges):\n",
      "    stack={};\n",
      "    visited={};\n",
      "    for k in edges.keys():\n",
      "        print \"for :\",k\n",
      "        visited[k]=False;\n",
      "        stack[k]=False;\n",
      "    \n",
      "    for i in edges.keys():\n",
      "            if (cyclic(i,visited,stack)):\n",
      "                return True;\n",
      "    return False;\n",
      "\n",
      "sort(edges)"
     ],
     "language": "python",
     "metadata": {},
     "outputs": [
      {
       "output_type": "stream",
       "stream": "stdout",
       "text": [
        "for : 0\n",
        "for : 1\n",
        "for : 2\n",
        "for : 3\n"
       ]
      },
      {
       "metadata": {},
       "output_type": "pyout",
       "prompt_number": 6,
       "text": [
        "False"
       ]
      }
     ],
     "prompt_number": 6
    },
    {
     "cell_type": "code",
     "collapsed": false,
     "input": [
      "\n",
      "def canFinish( numCourses, prerequisites):\n",
      "        \"\"\"\n",
      "        :type numCourses: int\n",
      "        :type prerequisites: List[List[int]]\n",
      "        :rtype: bool\n",
      "        \"\"\"\n",
      "        edges={}\n",
      "        for i in prerequisites:            \n",
      "            if i[0] in edges.keys() and type(edges[i[0]])==list:\n",
      "                edges[i[0]].append(i[1])\n",
      "            else:\n",
      "                edges[i[0]]=[i[1]]\n",
      "        \n",
      "        return edges;\n",
      "        \n",
      "\n",
      "b=[[0,1],[0,2],[0,3],[1,2],[1,3],[2,3],[3,6]]\n",
      "canFinish(2,b) \n"
     ],
     "language": "python",
     "metadata": {},
     "outputs": [
      {
       "metadata": {},
       "output_type": "pyout",
       "prompt_number": 2,
       "text": [
        "{0: [1, 2, 3], 1: [2, 3], 2: [3], 3: [6]}"
       ]
      }
     ],
     "prompt_number": 2
    },
    {
     "cell_type": "code",
     "collapsed": false,
     "input": [],
     "language": "python",
     "metadata": {},
     "outputs": []
    }
   ],
   "metadata": {}
  }
 ]
}