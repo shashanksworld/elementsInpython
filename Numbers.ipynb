{
 "cells": [
  {
   "cell_type": "code",
   "execution_count": 19,
   "metadata": {
    "collapsed": false
   },
   "outputs": [
    {
     "name": "stdout",
     "output_type": "stream",
     "text": [
      "repeated number 3\n"
     ]
    }
   ],
   "source": [
    "#find the duplicate element when a given list of numbers from 1-(n-1 ) will contain exactly one repeated number.\n",
    "n=8;\n",
    "a=[1,2,3,4,5,6,7,3];\n",
    "x=[i for i in range(1,n)];\n",
    "print \"repeated number\",(sum(a)-sum(x))\n"
   ]
  },
  {
   "cell_type": "code",
   "execution_count": 20,
   "metadata": {
    "collapsed": false
   },
   "outputs": [
    {
     "name": "stdout",
     "output_type": "stream",
     "text": [
      "missing number:: 6\n"
     ]
    }
   ],
   "source": [
    "#find the missing number in list of n numbers\n",
    "aList=[1,2,3,4,5,7,8,9]\n",
    "xList=[i for i in range(1,10)]\n",
    "print \"missing number::\",(sum(xList)-sum(aList))"
   ]
  },
  {
   "cell_type": "code",
   "execution_count": null,
   "metadata": {
    "collapsed": true
   },
   "outputs": [],
   "source": []
  }
 ],
 "metadata": {
  "kernelspec": {
   "display_name": "Python 2",
   "language": "python",
   "name": "python2"
  },
  "language_info": {
   "codemirror_mode": {
    "name": "ipython",
    "version": 2
   },
   "file_extension": ".py",
   "mimetype": "text/x-python",
   "name": "python",
   "nbconvert_exporter": "python",
   "pygments_lexer": "ipython2",
   "version": "2.7.10"
  }
 },
 "nbformat": 4,
 "nbformat_minor": 0
}
